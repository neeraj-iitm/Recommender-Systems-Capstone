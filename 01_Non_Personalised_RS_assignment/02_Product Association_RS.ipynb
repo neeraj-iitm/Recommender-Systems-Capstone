{
  "nbformat": 4,
  "nbformat_minor": 0,
  "metadata": {
    "kernelspec": {
      "display_name": "Python 3",
      "language": "python",
      "name": "python3"
    },
    "colab": {
      "name": "02_Product Association_RS.ipynb",
      "provenance": [],
      "include_colab_link": true
    }
  },
  "cells": [
    {
      "cell_type": "markdown",
      "metadata": {
        "id": "view-in-github",
        "colab_type": "text"
      },
      "source": [
        "<a href=\"https://colab.research.google.com/github/neeraj-iitm/Recommender-Systems-Capstone/blob/main/01_Non_Personalised_RS_assignment/02_Product%20Association_RS.ipynb\" target=\"_parent\"><img src=\"https://colab.research.google.com/assets/colab-badge.svg\" alt=\"Open In Colab\"/></a>"
      ]
    },
    {
      "cell_type": "code",
      "metadata": {
        "id": "trOzmDf_mS76"
      },
      "source": [
        "import pandas as pd\n",
        "import numpy as np"
      ],
      "execution_count": 27,
      "outputs": []
    },
    {
      "cell_type": "code",
      "metadata": {
        "id": "zcYgCY4MnSIL"
      },
      "source": [
        "url_m = \"https://raw.githubusercontent.com/neeraj-iitm/Recommender-Systems-Capstone/main/01_Non_Personalised_RS_assignment/data/movies.csv\"\n",
        "url_r = \"https://raw.githubusercontent.com/neeraj-iitm/Recommender-Systems-Capstone/main/01_Non_Personalised_RS_assignment/data/ratings.csv\"\n",
        "url_t = \"https://raw.githubusercontent.com/neeraj-iitm/Recommender-Systems-Capstone/main/01_Non_Personalised_RS_assignment/data/tags.csv\""
      ],
      "execution_count": 28,
      "outputs": []
    },
    {
      "cell_type": "code",
      "metadata": {
        "id": "Z2RVlY3vmc53"
      },
      "source": [
        "movies   = pd.read_csv(url_m,encoding = \"ISO-8859-1\")\n",
        "ratings  = pd.read_csv(url_r)\n",
        "tags     = pd.read_csv(url_t,encoding = \"ISO-8859-1\")"
      ],
      "execution_count": 29,
      "outputs": []
    },
    {
      "cell_type": "code",
      "metadata": {
        "id": "ZSfghwr-mc3Y",
        "colab": {
          "base_uri": "https://localhost:8080/",
          "height": 206
        },
        "outputId": "21010ac6-4574-4d5c-e68e-37663c46a80b"
      },
      "source": [
        "movies.head()"
      ],
      "execution_count": 30,
      "outputs": [
        {
          "output_type": "execute_result",
          "data": {
            "text/html": [
              "<div>\n",
              "<style scoped>\n",
              "    .dataframe tbody tr th:only-of-type {\n",
              "        vertical-align: middle;\n",
              "    }\n",
              "\n",
              "    .dataframe tbody tr th {\n",
              "        vertical-align: top;\n",
              "    }\n",
              "\n",
              "    .dataframe thead th {\n",
              "        text-align: right;\n",
              "    }\n",
              "</style>\n",
              "<table border=\"1\" class=\"dataframe\">\n",
              "  <thead>\n",
              "    <tr style=\"text-align: right;\">\n",
              "      <th></th>\n",
              "      <th>movieId</th>\n",
              "      <th>title</th>\n",
              "      <th>genres</th>\n",
              "    </tr>\n",
              "  </thead>\n",
              "  <tbody>\n",
              "    <tr>\n",
              "      <th>0</th>\n",
              "      <td>1</td>\n",
              "      <td>Toy Story (1995)</td>\n",
              "      <td>Adventure|Animation|Children|Comedy|Fantasy</td>\n",
              "    </tr>\n",
              "    <tr>\n",
              "      <th>1</th>\n",
              "      <td>2</td>\n",
              "      <td>Jumanji (1995)</td>\n",
              "      <td>Adventure|Children|Fantasy</td>\n",
              "    </tr>\n",
              "    <tr>\n",
              "      <th>2</th>\n",
              "      <td>3</td>\n",
              "      <td>Grumpier Old Men (1995)</td>\n",
              "      <td>Comedy|Romance</td>\n",
              "    </tr>\n",
              "    <tr>\n",
              "      <th>3</th>\n",
              "      <td>4</td>\n",
              "      <td>Waiting to Exhale (1995)</td>\n",
              "      <td>Comedy|Drama|Romance</td>\n",
              "    </tr>\n",
              "    <tr>\n",
              "      <th>4</th>\n",
              "      <td>5</td>\n",
              "      <td>Father of the Bride Part II (1995)</td>\n",
              "      <td>Comedy</td>\n",
              "    </tr>\n",
              "  </tbody>\n",
              "</table>\n",
              "</div>"
            ],
            "text/plain": [
              "   movieId  ...                                       genres\n",
              "0        1  ...  Adventure|Animation|Children|Comedy|Fantasy\n",
              "1        2  ...                   Adventure|Children|Fantasy\n",
              "2        3  ...                               Comedy|Romance\n",
              "3        4  ...                         Comedy|Drama|Romance\n",
              "4        5  ...                                       Comedy\n",
              "\n",
              "[5 rows x 3 columns]"
            ]
          },
          "metadata": {
            "tags": []
          },
          "execution_count": 30
        }
      ]
    },
    {
      "cell_type": "code",
      "metadata": {
        "id": "ex8aKuJumc0H"
      },
      "source": [
        "movies.title= movies.title.apply(lambda x: x.split(\" (\")[0])"
      ],
      "execution_count": 34,
      "outputs": []
    },
    {
      "cell_type": "code",
      "metadata": {
        "id": "M-sgYYyRmcu9"
      },
      "source": [
        "movies.genres = movies.genres.apply(lambda x : x.replace(\"|\", \",\"))"
      ],
      "execution_count": 36,
      "outputs": []
    },
    {
      "cell_type": "code",
      "metadata": {
        "id": "SsaOve9DmcpB"
      },
      "source": [
        "from sklearn.feature_extraction.text import TfidfVectorizer\n",
        "tfidf = TfidfVectorizer(stop_words = 'english')"
      ],
      "execution_count": 37,
      "outputs": []
    },
    {
      "cell_type": "code",
      "metadata": {
        "id": "q_X7CEfTmcmT"
      },
      "source": [
        "mtx = tfidf.fit_transform(movies.genres)"
      ],
      "execution_count": 38,
      "outputs": []
    },
    {
      "cell_type": "code",
      "metadata": {
        "id": "C5w3dhoAmcjj",
        "colab": {
          "base_uri": "https://localhost:8080/"
        },
        "outputId": "ac5eee3f-1931-4c75-92da-dc8504e4ceb2"
      },
      "source": [
        "mtx.shape"
      ],
      "execution_count": 39,
      "outputs": [
        {
          "output_type": "execute_result",
          "data": {
            "text/plain": [
              "(2500, 21)"
            ]
          },
          "metadata": {
            "tags": []
          },
          "execution_count": 39
        }
      ]
    },
    {
      "cell_type": "code",
      "metadata": {
        "id": "W_p5iY7omcZO"
      },
      "source": [
        "from sklearn.metrics.pairwise import linear_kernel\n",
        "\n",
        "cosine_sim = linear_kernel(mtx, mtx)"
      ],
      "execution_count": 40,
      "outputs": []
    },
    {
      "cell_type": "code",
      "metadata": {
        "colab": {
          "base_uri": "https://localhost:8080/"
        },
        "id": "xloOOKxIHpPc",
        "outputId": "5dba3294-3484-4af3-9e8c-fa67052a59f7"
      },
      "source": [
        "cosine_sim"
      ],
      "execution_count": 41,
      "outputs": [
        {
          "output_type": "execute_result",
          "data": {
            "text/plain": [
              "array([[1.        , 0.78157913, 0.16691005, ..., 0.        , 0.        ,\n",
              "        0.18548916],\n",
              "       [0.78157913, 1.        , 0.        , ..., 0.        , 0.        ,\n",
              "        0.23732614],\n",
              "       [0.16691005, 0.        , 1.        , ..., 0.        , 0.        ,\n",
              "        0.        ],\n",
              "       ...,\n",
              "       [0.        , 0.        , 0.        , ..., 1.        , 0.        ,\n",
              "        0.63001119],\n",
              "       [0.        , 0.        , 0.        , ..., 0.        , 1.        ,\n",
              "        0.        ],\n",
              "       [0.18548916, 0.23732614, 0.        , ..., 0.63001119, 0.        ,\n",
              "        1.        ]])"
            ]
          },
          "metadata": {
            "tags": []
          },
          "execution_count": 41
        }
      ]
    },
    {
      "cell_type": "code",
      "metadata": {
        "id": "uUN_clWJHqx6"
      },
      "source": [
        "indices = pd.Series(movies.index, index=movies['title']).drop_duplicates()"
      ],
      "execution_count": 42,
      "outputs": []
    },
    {
      "cell_type": "code",
      "metadata": {
        "id": "ooRvd_p_O0_-",
        "outputId": "dd2a08e3-3237-4d2e-f332-e21a83352325",
        "colab": {
          "base_uri": "https://localhost:8080/"
        }
      },
      "source": [
        "indices"
      ],
      "execution_count": 69,
      "outputs": [
        {
          "output_type": "execute_result",
          "data": {
            "text/plain": [
              "title\n",
              "Toy Story                         0\n",
              "Jumanji                           1\n",
              "Grumpier Old Men                  2\n",
              "Waiting to Exhale                 3\n",
              "Father of the Bride Part II       4\n",
              "                               ... \n",
              "Interstellar                   2495\n",
              "X-Men: Days of Future Past     2496\n",
              "Edge of Tomorrow               2497\n",
              "Gone Girl                      2498\n",
              "Guardians of the Galaxy        2499\n",
              "Length: 2500, dtype: int64"
            ]
          },
          "metadata": {
            "tags": []
          },
          "execution_count": 69
        }
      ]
    },
    {
      "cell_type": "code",
      "metadata": {
        "id": "9zi5Z5ZWO_z4"
      },
      "source": [
        "title = \"Star Wars: Episode IV - A New Hope\"\n",
        "idx = indices[title]\n",
        "\n",
        "sim_scores = list(enumerate(cosine_sim[idx]))"
      ],
      "execution_count": null,
      "outputs": []
    },
    {
      "cell_type": "code",
      "metadata": {
        "id": "NrpQ4F-KPduR"
      },
      "source": [
        "sim_scores = sorted(sim_scores, key=lambda x: x[1], reverse=True)"
      ],
      "execution_count": 73,
      "outputs": []
    },
    {
      "cell_type": "code",
      "metadata": {
        "id": "GCiIYokhPjCf",
        "outputId": "d6dcbd74-a8f3-496c-d104-f7b46884b3b6",
        "colab": {
          "base_uri": "https://localhost:8080/"
        }
      },
      "source": [
        "sim_scores[30:40]"
      ],
      "execution_count": 101,
      "outputs": [
        {
          "output_type": "execute_result",
          "data": {
            "text/plain": [
              "[(2367, 1.0000000000000002),\n",
              " (2496, 1.0000000000000002),\n",
              " (2499, 1.0000000000000002),\n",
              " (847, 0.953335982160903),\n",
              " (1801, 0.953335982160903),\n",
              " (775, 0.9431384373467113),\n",
              " (1641, 0.9431384373467113),\n",
              " (1724, 0.9431384373467113),\n",
              " (2371, 0.9431384373467113),\n",
              " (276, 0.9208587534044265)]"
            ]
          },
          "metadata": {
            "tags": []
          },
          "execution_count": 101
        }
      ]
    },
    {
      "cell_type": "code",
      "metadata": {
        "id": "MhhaI3n1Prml"
      },
      "source": [
        "movie_indices = [i[0] for i in sim_scores[1:11]]"
      ],
      "execution_count": 77,
      "outputs": []
    },
    {
      "cell_type": "code",
      "metadata": {
        "id": "TpEhFV3zPtad",
        "outputId": "61d9a1b3-c1d7-4d6b-e215-bafade53eb78",
        "colab": {
          "base_uri": "https://localhost:8080/"
        }
      },
      "source": [
        "movie_indices"
      ],
      "execution_count": 78,
      "outputs": [
        {
          "output_type": "execute_result",
          "data": {
            "text/plain": [
              "[157, 187, 261, 584, 597, 720, 872, 994, 997, 1193]"
            ]
          },
          "metadata": {
            "tags": []
          },
          "execution_count": 78
        }
      ]
    },
    {
      "cell_type": "code",
      "metadata": {
        "id": "i1CfjN5kH3Po"
      },
      "source": [
        "def content_recommender(title, cosine_sim=cosine_sim, df=movies, indices=indices):\n",
        "    # Obtain the index of the movie that matches the title\n",
        "    idx = indices[title]\n",
        "\n",
        "    # Get the pairwsie similarity scores of all movies with that movie\n",
        "    # And convert it into a list of tuples as described above\n",
        "    sim_scores = list(enumerate(cosine_sim[idx]))\n",
        "\n",
        "    # Sort the movies based on the cosine similarity scores\n",
        "    sim_scores = sorted(sim_scores, key=lambda x: x[1], reverse=True)\n",
        "\n",
        "    # Get the scores of the 10 most similar movies. Ignore the first movie.\n",
        "    sim_scores = sim_scores[1:11]\n",
        "\n",
        "    # Get the movie indices\n",
        "    movie_indices = [i[0] for i in sim_scores]\n",
        "\n",
        "    # Return the top 10 most similar movies\n",
        "    return df['title'].iloc[movie_indices]\n"
      ],
      "execution_count": 43,
      "outputs": []
    },
    {
      "cell_type": "code",
      "metadata": {
        "colab": {
          "base_uri": "https://localhost:8080/"
        },
        "id": "eqwEV9eZH6Js",
        "outputId": "03762845-88d3-439c-f30b-fc92cd229b7d"
      },
      "source": [
        "content_recommender('Star Wars: Episode IV - A New Hope')"
      ],
      "execution_count": 51,
      "outputs": [
        {
          "output_type": "execute_result",
          "data": {
            "text/plain": [
              "157                 Star Wars: Episode IV - A New Hope\n",
              "187                                           Stargate\n",
              "261                                     Demolition Man\n",
              "584     Star Wars: Episode V - The Empire Strikes Back\n",
              "597         Star Wars: Episode VI - Return of the Jedi\n",
              "720                Star Trek III: The Search for Spock\n",
              "872                                      Lost in Space\n",
              "994                                     Rocketeer, The\n",
              "997                                               Tron\n",
              "1193                                       Logan's Run\n",
              "Name: title, dtype: object"
            ]
          },
          "metadata": {
            "tags": []
          },
          "execution_count": 51
        }
      ]
    },
    {
      "cell_type": "code",
      "metadata": {
        "id": "xb7R553IMDpC"
      },
      "source": [
        "grouped_tags = tags.groupby(\"movieId\")[\"tag\"].apply(\",\".join)"
      ],
      "execution_count": 130,
      "outputs": []
    },
    {
      "cell_type": "code",
      "metadata": {
        "id": "_wpD6SZXT1Ob",
        "outputId": "c8bc8e90-f694-4029-8be3-d4bf962b840c",
        "colab": {
          "base_uri": "https://localhost:8080/"
        }
      },
      "source": [
        "grouped_tags"
      ],
      "execution_count": 134,
      "outputs": [
        {
          "output_type": "execute_result",
          "data": {
            "text/plain": [
              "movieId\n",
              "1         children,computer animation,Disney,family,Pixa...\n",
              "2         fantasy,Robin Williams,scary,time travel,Child...\n",
              "3         comedinha de velhinhos engraÃ§ada,Jack Lemmon,...\n",
              "4            characters,chick flick,CLV,chick flick,revenge\n",
              "5         steve martin,pregnancy,remake,Fantasy,CLV,Dian...\n",
              "                                ...                        \n",
              "109487    bad science,cliché finale,relativity,sci-fi,so...\n",
              "111362    time travel,Evan Peters,Fan Bingbing,Hugh Jack...\n",
              "111759    based on a novel,Reluctant Hero,time travel,Em...\n",
              "112556    David Fincher,good adaptation,meticulous,mindf...\n",
              "112852    action,characters,chris pratt,fun,music,ost,st...\n",
              "Name: tag, Length: 2495, dtype: object"
            ]
          },
          "metadata": {
            "tags": []
          },
          "execution_count": 134
        }
      ]
    },
    {
      "cell_type": "code",
      "metadata": {
        "id": "kZEm3_bYT3Wk"
      },
      "source": [
        ""
      ],
      "execution_count": null,
      "outputs": []
    }
  ]
}