{
 "cells": [
  {
   "cell_type": "markdown",
   "metadata": {},
   "source": [
    "# Non-Personalized Recommender Assignment\n",
    "\n",
    "In this assignment, you will implement some non-personalized recommenders.  In particular, you will\n",
    "implement raw and damped item mean recommenders and simple and advanced association rule\n",
    "recommenders.\n",
    "\n",
    "You will implement these recommenders in the LensKit toolkit.\n",
    "\n",
    "## Downloads and Resources\n",
    "\n",
    "-   Project template (from Coursera)\n",
    "-   [LensKit for Teaching website](http://mooc.lenskit.org) (links to relevant documentation)\n",
    "-   [JavaDoc for included code](http://mooc.lenskit.org/assignments/nonpers/javadoc/)\n",
    "-   [Fastutil API docs](http://fastutil.di.unimi.it/docs/) documents the Fastutil optimized data\n",
    "    structure classes that are used in portions of LensKit.\n",
    "\n",
    "The project template contains support code, the build file, and the input data that you will use.\n",
    "\n",
    "## Input Data\n",
    "\n",
    "The input data contains the following files:\n",
    "\n",
    "- `ratings.csv` contains user ratings of movies\n",
    "- `movies.csv` contains movie titles\n",
    "- `movielens.yml` is a LensKit data manifest that describes the other input files\n",
    "\n"
   ]
  },
  {
   "cell_type": "code",
   "execution_count": 1,
   "metadata": {},
   "outputs": [
    {
     "name": "stderr",
     "output_type": "stream",
     "text": [
      "/media/neeraj/Programs/ALinstall/anaconda3/lib/python3.7/site-packages/statsmodels/tools/_testing.py:19: FutureWarning: pandas.util.testing is deprecated. Use the functions in the public API at pandas.testing instead.\n",
      "  import pandas.util.testing as tm\n"
     ]
    }
   ],
   "source": [
    "import numpy as np\n",
    "import pandas as pd\n",
    "import matplotlib.pyplot as plt\n",
    "import seaborn as sns"
   ]
  },
  {
   "cell_type": "markdown",
   "metadata": {},
   "source": [
    "# Data Description\n",
    "ratings:\n",
    "  - entity_type: rating\n",
    "  \n",
    "movies:\n",
    "  - entity_type: ```item```\n",
    "  - columns: ```[id, name]```\n",
    "  \n",
    "tags:\n",
    " - entity_type: item-tag\n",
    " - columns:\n",
    "  \n",
    "  - name: ```item```  \n",
    "    type: ```long```\n",
    "    \n",
    "  - name: ```user```  \n",
    "    type: ```long```\n",
    "    \n",
    "  - name: ```tag```  \n",
    "    type: ```string```\n",
    "    \n",
    "  - name: ```timestamp```  \n",
    "    type: ```long```"
   ]
  },
  {
   "cell_type": "code",
   "execution_count": 2,
   "metadata": {},
   "outputs": [],
   "source": [
    "movies   = pd.read_csv(\"data/movies.csv\",encoding = \"ISO-8859-1\")\n",
    "ratings  = pd.read_csv(\"data/ratings.csv\")\n",
    "tags     = pd.read_csv(\"data/tags.csv\",encoding = \"ISO-8859-1\")"
   ]
  },
  {
   "cell_type": "code",
   "execution_count": 3,
   "metadata": {},
   "outputs": [
    {
     "data": {
      "text/plain": [
       "Index(['userId', 'movieId', 'rating', 'timestamp'], dtype='object')"
      ]
     },
     "execution_count": 3,
     "metadata": {},
     "output_type": "execute_result"
    }
   ],
   "source": [
    "ratings.columns"
   ]
  },
  {
   "cell_type": "code",
   "execution_count": 4,
   "metadata": {},
   "outputs": [
    {
     "data": {
      "text/plain": [
       "Index(['movieId', 'title', 'genres'], dtype='object')"
      ]
     },
     "execution_count": 4,
     "metadata": {},
     "output_type": "execute_result"
    }
   ],
   "source": [
    "movies.columns"
   ]
  },
  {
   "cell_type": "code",
   "execution_count": 5,
   "metadata": {},
   "outputs": [
    {
     "data": {
      "text/plain": [
       "Index(['movieId', 'userId', 'tag', 'timestamp'], dtype='object')"
      ]
     },
     "execution_count": 5,
     "metadata": {},
     "output_type": "execute_result"
    }
   ],
   "source": [
    "tags.columns"
   ]
  },
  {
   "cell_type": "code",
   "execution_count": 6,
   "metadata": {},
   "outputs": [],
   "source": [
    "df = ratings\n",
    "ratings = ratings[[\"movieId\",\"rating\"]]"
   ]
  },
  {
   "cell_type": "markdown",
   "metadata": {},
   "source": [
    "### Recommending Items\n",
    "\n",
    "Compute recommendations based on item mean\n",
    "ratings.  For this, you need to:\n",
    "\n",
    "1.  Obtain the mean rating for each item\n",
    "2.  Order the items in decreasing order\n",
    "3.  Return the *N* highest-rated items\n",
    "\n"
   ]
  },
  {
   "cell_type": "code",
   "execution_count": 22,
   "metadata": {},
   "outputs": [],
   "source": [
    "meanratings = ratings.groupby(\"movieId\", sort= True).mean()#.sort_values(by=\"rating\",ascending=0).loc[2959]"
   ]
  },
  {
   "cell_type": "code",
   "execution_count": 27,
   "metadata": {
    "scrolled": true
   },
   "outputs": [],
   "source": [
    "top5  = meanratings.sort_values(by=\"rating\", ascending = False).head()"
   ]
  },
  {
   "cell_type": "code",
   "execution_count": 28,
   "metadata": {},
   "outputs": [
    {
     "data": {
      "text/html": [
       "<div>\n",
       "<style scoped>\n",
       "    .dataframe tbody tr th:only-of-type {\n",
       "        vertical-align: middle;\n",
       "    }\n",
       "\n",
       "    .dataframe tbody tr th {\n",
       "        vertical-align: top;\n",
       "    }\n",
       "\n",
       "    .dataframe thead th {\n",
       "        text-align: right;\n",
       "    }\n",
       "</style>\n",
       "<table border=\"1\" class=\"dataframe\">\n",
       "  <thead>\n",
       "    <tr style=\"text-align: right;\">\n",
       "      <th></th>\n",
       "      <th>rating</th>\n",
       "    </tr>\n",
       "    <tr>\n",
       "      <th>movieId</th>\n",
       "      <th></th>\n",
       "    </tr>\n",
       "  </thead>\n",
       "  <tbody>\n",
       "    <tr>\n",
       "      <th>318</th>\n",
       "      <td>4.364362</td>\n",
       "    </tr>\n",
       "    <tr>\n",
       "      <th>858</th>\n",
       "      <td>4.315848</td>\n",
       "    </tr>\n",
       "    <tr>\n",
       "      <th>1248</th>\n",
       "      <td>4.259259</td>\n",
       "    </tr>\n",
       "    <tr>\n",
       "      <th>2959</th>\n",
       "      <td>4.258503</td>\n",
       "    </tr>\n",
       "    <tr>\n",
       "      <th>7502</th>\n",
       "      <td>4.247423</td>\n",
       "    </tr>\n",
       "  </tbody>\n",
       "</table>\n",
       "</div>"
      ],
      "text/plain": [
       "           rating\n",
       "movieId          \n",
       "318      4.364362\n",
       "858      4.315848\n",
       "1248     4.259259\n",
       "2959     4.258503\n",
       "7502     4.247423"
      ]
     },
     "execution_count": 28,
     "metadata": {},
     "output_type": "execute_result"
    }
   ],
   "source": [
    "top5"
   ]
  },
  {
   "cell_type": "code",
   "execution_count": 84,
   "metadata": {},
   "outputs": [
    {
     "data": {
      "text/plain": [
       "Int64Index([318, 858, 1248, 2959, 7502], dtype='int64', name='movieId')"
      ]
     },
     "execution_count": 84,
     "metadata": {},
     "output_type": "execute_result"
    }
   ],
   "source": [
    "top5.index"
   ]
  },
  {
   "cell_type": "code",
   "execution_count": 83,
   "metadata": {},
   "outputs": [
    {
     "data": {
      "text/html": [
       "<div>\n",
       "<style scoped>\n",
       "    .dataframe tbody tr th:only-of-type {\n",
       "        vertical-align: middle;\n",
       "    }\n",
       "\n",
       "    .dataframe tbody tr th {\n",
       "        vertical-align: top;\n",
       "    }\n",
       "\n",
       "    .dataframe thead th {\n",
       "        text-align: right;\n",
       "    }\n",
       "</style>\n",
       "<table border=\"1\" class=\"dataframe\">\n",
       "  <thead>\n",
       "    <tr style=\"text-align: right;\">\n",
       "      <th></th>\n",
       "      <th>movieId</th>\n",
       "      <th>title</th>\n",
       "      <th>genres</th>\n",
       "    </tr>\n",
       "  </thead>\n",
       "  <tbody>\n",
       "    <tr>\n",
       "      <th>318</th>\n",
       "      <td>548</td>\n",
       "      <td>Terminal Velocity (1994)</td>\n",
       "      <td>Action|Mystery|Thriller</td>\n",
       "    </tr>\n",
       "    <tr>\n",
       "      <th>858</th>\n",
       "      <td>1754</td>\n",
       "      <td>Fallen (1998)</td>\n",
       "      <td>Crime|Drama|Fantasy|Thriller</td>\n",
       "    </tr>\n",
       "  </tbody>\n",
       "</table>\n",
       "</div>"
      ],
      "text/plain": [
       "     movieId                     title                        genres\n",
       "318      548  Terminal Velocity (1994)       Action|Mystery|Thriller\n",
       "858     1754             Fallen (1998)  Crime|Drama|Fantasy|Thriller"
      ]
     },
     "execution_count": 83,
     "metadata": {},
     "output_type": "execute_result"
    }
   ],
   "source": [
    "movies.loc[[318,858]]"
   ]
  },
  {
   "cell_type": "code",
   "execution_count": 138,
   "metadata": {},
   "outputs": [],
   "source": [
    "a = [movies.movieId == i for i in top5.index]"
   ]
  },
  {
   "cell_type": "code",
   "execution_count": 156,
   "metadata": {},
   "outputs": [
    {
     "data": {
      "text/html": [
       "<div>\n",
       "<style scoped>\n",
       "    .dataframe tbody tr th:only-of-type {\n",
       "        vertical-align: middle;\n",
       "    }\n",
       "\n",
       "    .dataframe tbody tr th {\n",
       "        vertical-align: top;\n",
       "    }\n",
       "\n",
       "    .dataframe thead th {\n",
       "        text-align: right;\n",
       "    }\n",
       "</style>\n",
       "<table border=\"1\" class=\"dataframe\">\n",
       "  <thead>\n",
       "    <tr style=\"text-align: right;\">\n",
       "      <th></th>\n",
       "      <th>movieId</th>\n",
       "      <th>title</th>\n",
       "      <th>genres</th>\n",
       "    </tr>\n",
       "  </thead>\n",
       "  <tbody>\n",
       "    <tr>\n",
       "      <th>189</th>\n",
       "      <td>318</td>\n",
       "      <td>Shawshank Redemption, The (1994)</td>\n",
       "      <td>Crime|Drama</td>\n",
       "    </tr>\n",
       "    <tr>\n",
       "      <th>422</th>\n",
       "      <td>858</td>\n",
       "      <td>Godfather, The (1972)</td>\n",
       "      <td>Crime|Drama</td>\n",
       "    </tr>\n",
       "    <tr>\n",
       "      <th>632</th>\n",
       "      <td>1248</td>\n",
       "      <td>Touch of Evil (1958)</td>\n",
       "      <td>Crime|Film-Noir|Thriller</td>\n",
       "    </tr>\n",
       "    <tr>\n",
       "      <th>1355</th>\n",
       "      <td>2959</td>\n",
       "      <td>Fight Club (1999)</td>\n",
       "      <td>Action|Crime|Drama|Thriller</td>\n",
       "    </tr>\n",
       "    <tr>\n",
       "      <th>2110</th>\n",
       "      <td>7502</td>\n",
       "      <td>Band of Brothers (2001)</td>\n",
       "      <td>Action|Drama|War</td>\n",
       "    </tr>\n",
       "  </tbody>\n",
       "</table>\n",
       "</div>"
      ],
      "text/plain": [
       "      movieId                             title                       genres\n",
       "189       318  Shawshank Redemption, The (1994)                  Crime|Drama\n",
       "422       858             Godfather, The (1972)                  Crime|Drama\n",
       "632      1248              Touch of Evil (1958)     Crime|Film-Noir|Thriller\n",
       "1355     2959                 Fight Club (1999)  Action|Crime|Drama|Thriller\n",
       "2110     7502           Band of Brothers (2001)             Action|Drama|War"
      ]
     },
     "execution_count": 156,
     "metadata": {},
     "output_type": "execute_result"
    }
   ],
   "source": [
    "movies[sum(a)==1]"
   ]
  },
  {
   "cell_type": "code",
   "execution_count": 143,
   "metadata": {},
   "outputs": [],
   "source": [
    "labels = movies[sum(a)==1].title.values"
   ]
  },
  {
   "cell_type": "code",
   "execution_count": 159,
   "metadata": {},
   "outputs": [
    {
     "data": {
      "image/png": "[encoded data removed]",
      "text/plain": [
       "<Figure size 432x288 with 1 Axes>"
      ]
     },
     "metadata": {
      "needs_background": "light"
     },
     "output_type": "display_data"
    }
   ],
   "source": [
    "ax =sns.barplot(x = labels, y= top5.rating)\n",
    "plt.ylim(4,4.4)\n",
    "# plt.xlabel(xlabel = labels)\n",
    "plt.xticks(rotation = 45, ha =\"right\")\n",
    "plt.show()"
   ]
  },
  {
   "cell_type": "markdown",
   "metadata": {},
   "source": [
    "### Computing Damped Item Means\n",
    "\n",
    "Modify the `DampedItemMeanModelProvider` class to compute the damped mean rating for each item.\n",
    "This formula uses a damping factor $\\alpha$, which is the number of 'fake' ratings at the global\n",
    "mean to assume for each item.  In the Java code, this is available as the field `damping`.\n",
    "\n",
    "The damped mean formula, as you may recall, is:\n",
    "\n",
    "$$s(i) = \\frac{\\sum_{u \\in U_i} r_{ui} + \\alpha\\mu}{|U_i| + \\alpha}$$\n",
    "\n",
    "where $\\mu$ is the *global* mean rating."
   ]
  },
  {
   "cell_type": "code",
   "execution_count": 10,
   "metadata": {},
   "outputs": [],
   "source": [
    "def search(x,ratings,mean):\n",
    "    α = 5\n",
    "    sumr = 0\n",
    "    for i in x:\n",
    "        sumr=sumr+ratings.rating[ratings.rating == i].mean()\n",
    "        \n",
    "    dampedmean = (sumr + α*mean)/(len(x)+α)\n",
    "    return dampedmean\n",
    "\n",
    "mean = ratings.rating.mean()\n",
    "dampedrats = ratings.groupby(\"movieId\").agg(lambda x : search(x,ratings,mean))"
   ]
  },
  {
   "cell_type": "markdown",
   "metadata": {},
   "source": [
    "\n",
    "\n",
    "### Example Outputs\n",
    "\n",
    "To help you see if your output is correct, we have provided the following example correct values:\n",
    "\n",
    "| ID  | Title | Mean | Damped Mean |\n",
    "| :-: | :---- | :--: | :---------: |\n",
    "| 2959 | *Fight Club* | 4.259 | 4.252 |\n",
    "| 1203 | *12 Angry Men* | 4.246 | 4.227 |\n"
   ]
  },
  {
   "cell_type": "code",
   "execution_count": 17,
   "metadata": {},
   "outputs": [
    {
     "name": "stdout",
     "output_type": "stream",
     "text": [
      "Mean Rating        : 4.259 | Expected : 4.259 \n",
      "Damped Mean Rating : 4.252 | Expected : 4.252 \n"
     ]
    }
   ],
   "source": [
    "print(f\"Mean Rating        : {round(meanratings.loc[2959][0],3)} | Expected : 4.259 \" +\n",
    "      f\"\\nDamped Mean Rating : {round(dampedrats.loc[2959][0],3)} | Expected : 4.252 \")"
   ]
  },
  {
   "cell_type": "code",
   "execution_count": 18,
   "metadata": {},
   "outputs": [
    {
     "name": "stdout",
     "output_type": "stream",
     "text": [
      "Mean Rating        : 4.246 | Expected : 4.246 \n",
      "Damped Mean Rating : 4.227 | Expected : 4.227 \n"
     ]
    }
   ],
   "source": [
    "print(f\"Mean Rating        : {round(meanratings.loc[1203][0],3)} | Expected : 4.246 \" +\n",
    "      f\"\\nDamped Mean Rating : {round(dampedrats.loc[1203][0],3)} | Expected : 4.227 \")"
   ]
  },
  {
   "cell_type": "code",
   "execution_count": null,
   "metadata": {},
   "outputs": [],
   "source": []
  }
 ],
 "metadata": {
  "kernelspec": {
   "display_name": "Python 3",
   "language": "python",
   "name": "python3"
  },
  "language_info": {
   "codemirror_mode": {
    "name": "ipython",
    "version": 3
   },
   "file_extension": ".py",
   "mimetype": "text/x-python",
   "name": "python",
   "nbconvert_exporter": "python",
   "pygments_lexer": "ipython3",
   "version": "3.7.4"
  }
 },
 "nbformat": 4,
 "nbformat_minor": 2
}
